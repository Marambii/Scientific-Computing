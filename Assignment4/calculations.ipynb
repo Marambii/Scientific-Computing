{
 "cells": [
  {
   "cell_type": "markdown",
   "metadata": {},
   "source": [
    "# COST FUNCTION"
   ]
  },
  {
   "cell_type": "code",
   "execution_count": 1,
   "metadata": {},
   "outputs": [],
   "source": [
    "import sympy as sp"
   ]
  },
  {
   "cell_type": "code",
   "execution_count": 2,
   "metadata": {},
   "outputs": [
    {
     "data": {
      "text/latex": [
       "$\\displaystyle 5 x^{3} - 10 x^{2} + 4 x + 3$"
      ],
      "text/plain": [
       "5*x**3 - 10*x**2 + 4*x + 3"
      ]
     },
     "execution_count": 2,
     "metadata": {},
     "output_type": "execute_result"
    }
   ],
   "source": [
    "x = sp.symbols('x')\n",
    "C = 5*x**3 - 10*x**2 + 4*x + 3\n",
    "C "
   ]
  },
  {
   "cell_type": "markdown",
   "metadata": {},
   "source": [
    "## Find the symbolic derivative of C(x)"
   ]
  },
  {
   "cell_type": "code",
   "execution_count": 7,
   "metadata": {},
   "outputs": [
    {
     "data": {
      "text/latex": [
       "$\\displaystyle 15 x^{2} - 20 x + 4$"
      ],
      "text/plain": [
       "15*x**2 - 20*x + 4"
      ]
     },
     "execution_count": 7,
     "metadata": {},
     "output_type": "execute_result"
    }
   ],
   "source": [
    "C_prime = sp.diff(C, x)\n",
    "C_prime"
   ]
  },
  {
   "cell_type": "markdown",
   "metadata": {},
   "source": [
    "## Solve for x when the cost is minimized (i.e., when the derivative is zero)"
   ]
  },
  {
   "cell_type": "code",
   "execution_count": 8,
   "metadata": {},
   "outputs": [
    {
     "data": {
      "text/plain": [
       "[2/3 - 2*sqrt(10)/15, 2*sqrt(10)/15 + 2/3]"
      ]
     },
     "execution_count": 8,
     "metadata": {},
     "output_type": "execute_result"
    }
   ],
   "source": [
    "critical_points = sp.solve(C_prime, x)\n",
    "critical_points"
   ]
  },
  {
   "cell_type": "markdown",
   "metadata": {},
   "source": [
    "## Evaluate the second derivative to determine if the critical points are minima"
   ]
  },
  {
   "cell_type": "code",
   "execution_count": 9,
   "metadata": {},
   "outputs": [
    {
     "data": {
      "text/plain": [
       "[2*sqrt(10)/15 + 2/3]"
      ]
     },
     "execution_count": 9,
     "metadata": {},
     "output_type": "execute_result"
    }
   ],
   "source": [
    "C_double_prime = sp.diff(C_prime, x)\n",
    "min_points = [point for point in critical_points if C_double_prime.subs(x, point) > 0]\n",
    "min_points"
   ]
  },
  {
   "cell_type": "code",
   "execution_count": 10,
   "metadata": {},
   "outputs": [
    {
     "name": "stdout",
     "output_type": "stream",
     "text": [
      "The cost is minimized when x = 2*sqrt(10)/15 + 2/3, with a minimum cost of -10*(2*sqrt(10)/15 + 2/3)**2 + 8*sqrt(10)/15 + 17/3 + 5*(2*sqrt(10)/15 + 2/3)**3\n"
     ]
    }
   ],
   "source": [
    "if min_points:\n",
    "    min_cost = C.subs(x, min_points[0])\n",
    "    print(f\"The cost is minimized when x = {min_points[0]}, with a minimum cost of {min_cost}\")\n",
    "else:\n",
    "    print(\"No minimum cost found\")"
   ]
  },
  {
   "cell_type": "markdown",
   "metadata": {},
   "source": [
    "# EIGEN VALUES"
   ]
  },
  {
   "cell_type": "code",
   "execution_count": 12,
   "metadata": {},
   "outputs": [
    {
     "data": {
      "text/latex": [
       "$\\displaystyle \\left[\\begin{matrix}2 & 1\\\\1 & 3\\end{matrix}\\right]$"
      ],
      "text/plain": [
       "Matrix([\n",
       "[2, 1],\n",
       "[1, 3]])"
      ]
     },
     "execution_count": 12,
     "metadata": {},
     "output_type": "execute_result"
    }
   ],
   "source": [
    "A = sp.Matrix([[2, 1], [1, 3]])\n",
    "A"
   ]
  },
  {
   "cell_type": "code",
   "execution_count": 13,
   "metadata": {},
   "outputs": [
    {
     "data": {
      "text/latex": [
       "$\\displaystyle \\left[\\begin{matrix}5 & 5\\\\5 & 10\\end{matrix}\\right]$"
      ],
      "text/plain": [
       "Matrix([\n",
       "[5,  5],\n",
       "[5, 10]])"
      ]
     },
     "execution_count": 13,
     "metadata": {},
     "output_type": "execute_result"
    }
   ],
   "source": [
    "B = A * A \n",
    "B"
   ]
  },
  {
   "cell_type": "markdown",
   "metadata": {},
   "source": [
    "## Compute the determinant of AA"
   ]
  },
  {
   "cell_type": "code",
   "execution_count": 14,
   "metadata": {},
   "outputs": [
    {
     "data": {
      "text/latex": [
       "$\\displaystyle 25$"
      ],
      "text/plain": [
       "25"
      ]
     },
     "execution_count": 14,
     "metadata": {},
     "output_type": "execute_result"
    }
   ],
   "source": [
    "det_B = B.det()\n",
    "det_B"
   ]
  },
  {
   "cell_type": "markdown",
   "metadata": {},
   "source": [
    "## compute eigenvalues"
   ]
  },
  {
   "cell_type": "code",
   "execution_count": 15,
   "metadata": {},
   "outputs": [
    {
     "data": {
      "text/plain": [
       "{15/2 - 5*sqrt(5)/2: 1, 5*sqrt(5)/2 + 15/2: 1}"
      ]
     },
     "execution_count": 15,
     "metadata": {},
     "output_type": "execute_result"
    }
   ],
   "source": [
    "eigenvalues = B.eigenvals()\n",
    "eigenvalues"
   ]
  },
  {
   "cell_type": "markdown",
   "metadata": {},
   "source": [
    "## Characteristic equation of AA"
   ]
  },
  {
   "cell_type": "code",
   "execution_count": 16,
   "metadata": {},
   "outputs": [
    {
     "data": {
      "text/latex": [
       "$\\displaystyle \\operatorname{PurePoly}{\\left( x^{2} - 15 x + 25, x, domain=\\mathbb{Z} \\right)}$"
      ],
      "text/plain": [
       "PurePoly(x**2 - 15*x + 25, x, domain='ZZ')"
      ]
     },
     "execution_count": 16,
     "metadata": {},
     "output_type": "execute_result"
    }
   ],
   "source": [
    "x = sp.symbols('x')\n",
    "char_eq_B = B.charpoly(x)\n",
    "char_eq_B"
   ]
  },
  {
   "cell_type": "markdown",
   "metadata": {},
   "source": [
    "## Verify that the eigenvalues satisfy the characteristic equation\n"
   ]
  },
  {
   "cell_type": "code",
   "execution_count": 18,
   "metadata": {},
   "outputs": [
    {
     "name": "stdout",
     "output_type": "stream",
     "text": [
      "All eigenvalues satisfy the characteristic equation of AA.\n"
     ]
    }
   ],
   "source": [
    "for eigenval in eigenvalues:\n",
    "    assert char_eq_B.subs(x, eigenval) == 0, f\"Eigenvalue {eigenval} does not satisfy the characteristic equation\"\n",
    "\n",
    "print(\"All eigenvalues satisfy the characteristic equation of AA.\")"
   ]
  },
  {
   "cell_type": "markdown",
   "metadata": {},
   "source": [
    "# Encryption"
   ]
  },
  {
   "cell_type": "code",
   "execution_count": 20,
   "metadata": {},
   "outputs": [],
   "source": [
    "from sympy import symbols, Mod, Pow, mod_inverse\n",
    "\n",
    "P, e, N = symbols('P e N')"
   ]
  },
  {
   "cell_type": "markdown",
   "metadata": {},
   "source": [
    "## define encryption key"
   ]
  },
  {
   "cell_type": "code",
   "execution_count": 21,
   "metadata": {},
   "outputs": [
    {
     "data": {
      "text/latex": [
       "$\\displaystyle P^{e} \\bmod N$"
      ],
      "text/plain": [
       "Mod(P**e, N)"
      ]
     },
     "execution_count": 21,
     "metadata": {},
     "output_type": "execute_result"
    }
   ],
   "source": [
    "C = Mod(Pow(P, e), N)\n",
    "C"
   ]
  },
  {
   "cell_type": "code",
   "execution_count": 24,
   "metadata": {},
   "outputs": [],
   "source": [
    "P_val = 7\n",
    "e_val = 3\n",
    "N_val = 33"
   ]
  },
  {
   "cell_type": "markdown",
   "metadata": {},
   "source": [
    "## Compute ciphertext C = P^e mod N"
   ]
  },
  {
   "cell_type": "code",
   "execution_count": 23,
   "metadata": {},
   "outputs": [
    {
     "data": {
      "text/plain": [
       "13"
      ]
     },
     "execution_count": 23,
     "metadata": {},
     "output_type": "execute_result"
    }
   ],
   "source": [
    "\n",
    "C_val = pow(P_val, e_val, N_val)\n",
    "C_val"
   ]
  },
  {
   "cell_type": "code",
   "execution_count": 25,
   "metadata": {},
   "outputs": [
    {
     "name": "stdout",
     "output_type": "stream",
     "text": [
      "Modular inverse of P: 19\n"
     ]
    }
   ],
   "source": [
    "try:\n",
    "    mod_inv_P = mod_inverse(P_val, N_val)\n",
    "    print(\"Modular inverse of P:\", mod_inv_P)\n",
    "except ValueError:\n",
    "    print(\"Modular inverse does not exist.\")"
   ]
  }
 ],
 "metadata": {
  "kernelspec": {
   "display_name": "myenv",
   "language": "python",
   "name": "python3"
  },
  "language_info": {
   "codemirror_mode": {
    "name": "ipython",
    "version": 3
   },
   "file_extension": ".py",
   "mimetype": "text/x-python",
   "name": "python",
   "nbconvert_exporter": "python",
   "pygments_lexer": "ipython3",
   "version": "3.12.3"
  }
 },
 "nbformat": 4,
 "nbformat_minor": 2
}
